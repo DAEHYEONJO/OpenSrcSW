{
 "cells": [
  {
   "cell_type": "code",
   "execution_count": 79,
   "id": "8aed8978",
   "metadata": {},
   "outputs": [
    {
     "name": "stdout",
     "output_type": "stream",
     "text": [
      "( 1 , 2 )\n",
      "( 3 , 4 )\n",
      "( 4 , 6 )\n"
     ]
    }
   ],
   "source": [
    "class Point:\n",
    "    x=0\n",
    "    y=0\n",
    "    def __init__(self,a,b):\n",
    "        self.x = a\n",
    "        self.y = b\n",
    "    def show(self):\n",
    "        print('(',self.x,',',self.y,')')\n",
    "    def __add__(self,other):\n",
    "        self.x = self.x + other.x\n",
    "        self.y = self.y + other.y\n",
    "        return self\n",
    "        \n",
    "a = Point(1,2)\n",
    "a.show()\n",
    "b = Point(3,4)\n",
    "b.show()\n",
    "\n",
    "a=a+b\n",
    "a.show()"
   ]
  },
  {
   "cell_type": "code",
   "execution_count": 50,
   "id": "723f4891",
   "metadata": {
    "scrolled": false
   },
   "outputs": [
    {
     "name": "stdout",
     "output_type": "stream",
     "text": [
      "Max Week = 5/ 8  ~  5/ 13\n"
     ]
    }
   ],
   "source": [
    "import csv\n",
    "import pandas as pd\n",
    "import numpy as np\n",
    "import matplotlib.pyplot as plt\n",
    "from matplotlib import rc\n",
    "rc('font', family = 'AppleGothic')\n",
    "\n",
    "f = open('seoul.csv','r',encoding = 'cp949')\n",
    "data = csv.reader(f)\n",
    "next(data)\n",
    "\n",
    "week_temp = []\n",
    "sum = 0\n",
    "count = 0\n",
    "\n",
    "\n",
    "for row in data:\n",
    "    day = int(row[0].split('-')[2])\n",
    "    if day%7 != 0:\n",
    "        sum += float(row[4])-float(row[3])\n",
    "        if day == 31:\n",
    "            week_temp.append(sum)\n",
    "    else:\n",
    "        week_temp.append(sum)\n",
    "        sum = 0\n",
    "    \n",
    "maxindex = 0\n",
    "maxvalue = 0\n",
    "for i,value in enumerate(week_temp):\n",
    "    if value >= maxvalue:\n",
    "        maxvalue = value\n",
    "        maxindex = i\n",
    "\n",
    "resultday1 = maxindex*7+1\n",
    "resultday2 = maxindex*7+6\n",
    "\n",
    "print('Max Week = 5/',resultday1, ' ~ ','5/',resultday2)\n",
    "    "
   ]
  },
  {
   "cell_type": "code",
   "execution_count": 70,
   "id": "80678a47",
   "metadata": {},
   "outputs": [
    {
     "name": "stdout",
     "output_type": "stream",
     "text": [
      "1.7320508075688772\n",
      "0.5773502691896258\n",
      "0.8660254037844387\n",
      "0.6666666666666667\n"
     ]
    },
    {
     "data": {
      "image/png": "[encoded data removed]",
      "text/plain": [
       "<Figure size 432x288 with 1 Axes>"
      ]
     },
     "metadata": {
      "needs_background": "light"
     },
     "output_type": "display_data"
    }
   ],
   "source": [
    "c = np.array([1,1,0,1,0,1,1,1,1,0,1,0,1,1,0,1,0,0])\n",
    "docs = c.reshape(3,6)\n",
    "query = np.array([1,1,0,0,1,0])\n",
    "\n",
    "\n",
    "\n",
    "resultVal = []\n",
    "\n",
    "queryVal = 0\n",
    "for i in query:\n",
    "    queryVal += i**2\n",
    "queryVal = np.sqrt(queryVal)\n",
    "print(queryVal)\n",
    "\n",
    "for i in range(0,len(docs)):\n",
    "    sum = 0\n",
    "    for j in docs[i]:\n",
    "        sum += j**2\n",
    "    sum = np.sqrt(sum)\n",
    "        \n",
    "    multi = docs[i]*query\n",
    "    sum2=0\n",
    "    for k in multi:\n",
    "        sum2+=k\n",
    "        \n",
    "    result = sum2/(sum*queryVal)\n",
    "    resultVal.append(result)\n",
    "    print(result)\n",
    "plt.title('Cosine similarties')\n",
    "plt.bar(['doc1=0.58','doc1=0.87','doc1=0.67'],resultVal)\n",
    "plt.show()"
   ]
  },
  {
   "cell_type": "code",
   "execution_count": null,
   "id": "4d3cc478",
   "metadata": {},
   "outputs": [],
   "source": []
  }
 ],
 "metadata": {
  "kernelspec": {
   "display_name": "Python 3",
   "language": "python",
   "name": "python3"
  },
  "language_info": {
   "codemirror_mode": {
    "name": "ipython",
    "version": 3
   },
   "file_extension": ".py",
   "mimetype": "text/x-python",
   "name": "python",
   "nbconvert_exporter": "python",
   "pygments_lexer": "ipython3",
   "version": "3.8.8"
  }
 },
 "nbformat": 4,
 "nbformat_minor": 5
}
