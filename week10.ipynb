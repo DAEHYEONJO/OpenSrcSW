{
 "cells": [
  {
   "cell_type": "code",
   "execution_count": 32,
   "id": "4d45208f",
   "metadata": {},
   "outputs": [
    {
     "name": "stdout",
     "output_type": "stream",
     "text": [
      "Numbers? 4 34 12132 43 2222\n",
      "12132\n"
     ]
    }
   ],
   "source": [
    "str = input(\"Numbers? \")\n",
    "splitArr = str.split()\n",
    "maxNum=0\n",
    "for i in range(0,len(splitArr)):\n",
    "    temp = int(splitArr[i]);\n",
    "    if(maxNum<=temp):\n",
    "        maxNum = temp\n",
    "        \n",
    "print(maxNum)\n"
   ]
  },
  {
   "cell_type": "code",
   "execution_count": 15,
   "id": "1467369e",
   "metadata": {},
   "outputs": [
    {
     "name": "stdout",
     "output_type": "stream",
     "text": [
      "encryption str : abc def\n",
      "efg\n",
      "bcd\n",
      "decryption str : efg bcd\n",
      "abc\n",
      "def\n"
     ]
    }
   ],
   "source": [
    "def changeAscii(val, arr = []):\n",
    "    for i in range(0,len(arr)):\n",
    "        tmpStr=\"\"\n",
    "        for j in range(0,len(arr[i])):\n",
    "            temp = ord(arr[i][j])\n",
    "            temp += val\n",
    "            tmpStr+=chr(temp)\n",
    "        arr[i] = tmpStr\n",
    "    return arr\n",
    "\n",
    "en = input(\"encryption str : \")\n",
    "splitEn = en.split()\n",
    "splitEn.reverse()\n",
    "changeAscii(1,splitEn)\n",
    "\n",
    "for i in splitEn:\n",
    "    print(i)\n",
    "\n",
    "de = input(\"decryption str : \")\n",
    "splitDe = de.split()\n",
    "changeAscii(-1,splitDe)\n",
    "splitDe.reverse()\n",
    "\n",
    "for i in splitDe:\n",
    "    print(i)\n"
   ]
  },
  {
   "cell_type": "code",
   "execution_count": 15,
   "id": "5671aa89",
   "metadata": {},
   "outputs": [
    {
     "name": "stdout",
     "output_type": "stream",
     "text": [
      "input name : dafa dvs ewf\n",
      "input phone num : 1 2 4\n",
      "이름을 입력하세요 : dafa\n",
      "전화번호 :  1\n",
      "전화번호를 입력하세요 : 4\n",
      "이름 :  ewf\n"
     ]
    }
   ],
   "source": [
    "pb = {}\n",
    "key = input(\"input name : \")\n",
    "value = input(\"input phone num : \")\n",
    "splitKey = key.split()\n",
    "splitValue = value.split()\n",
    "if len(splitKey) == len(splitValue):\n",
    "    for i in range(0,len(splitKey)):\n",
    "        pb[splitKey[i]] = splitValue[i]\n",
    "        \n",
    "    name = input(\"이름을 입력하세요 : \")\n",
    "    if name in pb:\n",
    "        print(\"전화번호 : \",pb.get(name))\n",
    "    else:\n",
    "        print(\"입력한 이름에 해당하는 전화번호 없음\")\n",
    "\n",
    "    pn = input(\"전화번호를 입력하세요 : \")\n",
    "    flag = 1\n",
    "    for key, value in pb.items():\n",
    "        if value == pn:\n",
    "            flag = 0\n",
    "            print(\"이름 : \",key)\n",
    "            break\n",
    "    \n",
    "    if flag == 1:\n",
    "        print(\"전화번호에 해당하는 이름 없음\")\n",
    "        \n",
    "else:\n",
    "    print(\"input error\")\n"
   ]
  },
  {
   "cell_type": "code",
   "execution_count": null,
   "id": "5fddb47b",
   "metadata": {},
   "outputs": [],
   "source": []
  },
  {
   "cell_type": "code",
   "execution_count": null,
   "id": "18171e37",
   "metadata": {},
   "outputs": [],
   "source": []
  },
  {
   "cell_type": "code",
   "execution_count": null,
   "id": "a19f6367",
   "metadata": {},
   "outputs": [],
   "source": []
  },
  {
   "cell_type": "code",
   "execution_count": null,
   "id": "78214ff1",
   "metadata": {},
   "outputs": [],
   "source": []
  },
  {
   "cell_type": "code",
   "execution_count": null,
   "id": "7a7c49b6",
   "metadata": {},
   "outputs": [],
   "source": []
  },
  {
   "cell_type": "code",
   "execution_count": null,
   "id": "92576a34",
   "metadata": {},
   "outputs": [],
   "source": []
  },
  {
   "cell_type": "code",
   "execution_count": null,
   "id": "d3e1c42d",
   "metadata": {},
   "outputs": [],
   "source": []
  },
  {
   "cell_type": "code",
   "execution_count": null,
   "id": "25d1921b",
   "metadata": {},
   "outputs": [],
   "source": []
  },
  {
   "cell_type": "code",
   "execution_count": null,
   "id": "8f55cf26",
   "metadata": {},
   "outputs": [],
   "source": []
  },
  {
   "cell_type": "code",
   "execution_count": null,
   "id": "de7c5fa2",
   "metadata": {},
   "outputs": [],
   "source": []
  },
  {
   "cell_type": "code",
   "execution_count": null,
   "id": "a0eab479",
   "metadata": {},
   "outputs": [],
   "source": []
  },
  {
   "cell_type": "code",
   "execution_count": null,
   "id": "4e79d8f1",
   "metadata": {},
   "outputs": [],
   "source": []
  },
  {
   "cell_type": "code",
   "execution_count": null,
   "id": "b3809f2f",
   "metadata": {},
   "outputs": [],
   "source": []
  },
  {
   "cell_type": "code",
   "execution_count": null,
   "id": "4f0d703b",
   "metadata": {},
   "outputs": [],
   "source": []
  },
  {
   "cell_type": "code",
   "execution_count": null,
   "id": "ab497d89",
   "metadata": {},
   "outputs": [],
   "source": []
  },
  {
   "cell_type": "code",
   "execution_count": null,
   "id": "ad701f40",
   "metadata": {},
   "outputs": [],
   "source": []
  },
  {
   "cell_type": "code",
   "execution_count": null,
   "id": "82d5a682",
   "metadata": {},
   "outputs": [],
   "source": []
  },
  {
   "cell_type": "code",
   "execution_count": null,
   "id": "1425f3e7",
   "metadata": {},
   "outputs": [],
   "source": []
  },
  {
   "cell_type": "code",
   "execution_count": null,
   "id": "9813b7e7",
   "metadata": {},
   "outputs": [],
   "source": []
  },
  {
   "cell_type": "code",
   "execution_count": null,
   "id": "608f5863",
   "metadata": {},
   "outputs": [],
   "source": []
  },
  {
   "cell_type": "code",
   "execution_count": null,
   "id": "71e6816b",
   "metadata": {},
   "outputs": [],
   "source": []
  },
  {
   "cell_type": "code",
   "execution_count": null,
   "id": "d1a84d3c",
   "metadata": {},
   "outputs": [],
   "source": []
  },
  {
   "cell_type": "code",
   "execution_count": null,
   "id": "172051ce",
   "metadata": {},
   "outputs": [],
   "source": []
  }
 ],
 "metadata": {
  "kernelspec": {
   "display_name": "Python 3",
   "language": "python",
   "name": "python3"
  },
  "language_info": {
   "codemirror_mode": {
    "name": "ipython",
    "version": 3
   },
   "file_extension": ".py",
   "mimetype": "text/x-python",
   "name": "python",
   "nbconvert_exporter": "python",
   "pygments_lexer": "ipython3",
   "version": "3.8.2"
  }
 },
 "nbformat": 4,
 "nbformat_minor": 5
}
