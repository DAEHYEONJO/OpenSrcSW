{
 "cells": [
  {
   "cell_type": "code",
   "execution_count": 73,
   "id": "f9f96479",
   "metadata": {},
   "outputs": [
    {
     "name": "stdout",
     "output_type": "stream",
     "text": [
      "일교차가 가장 큰날 :  2020.5.6\n",
      "최저기온이 가장 낮은날 :  2020.12.31\n",
      "최고기온이 가장 높은날 :  2020.6.22\n"
     ]
    }
   ],
   "source": [
    "import csv\n",
    "\n",
    "f= open('seoul.csv','r',encoding='cp949')\n",
    "\n",
    "data = csv.reader(f)\n",
    "header = next(data)\n",
    "\n",
    "max_temp = -99\n",
    "min_temp = 1000\n",
    "max_daily_cross_temp = -999\n",
    "max_daily_cross_date = ''\n",
    "max_temp_date = ''\n",
    "min_temp_date = ''\n",
    "\n",
    "for row in data:\n",
    "    if row[-1] == '':\n",
    "        row[-1] = -99\n",
    "    row[-1] = float(row[-1])\n",
    "    row[3] = float(row[3])\n",
    "    if min_temp >= row[3]:\n",
    "        min_temp = row[3]\n",
    "        min_temp_date = row[0]\n",
    "        \n",
    "    if max_temp <= row[-1]:\n",
    "        max_temp_date = row[0]\n",
    "        max_temp = row[-1]\n",
    "    \n",
    "    if (max_daily_cross_temp) <= (row[-1] - row[3]):\n",
    "        max_daily_cross_date = row[0]\n",
    "        max_daily_cross_temp = (row[-1] - row[3])\n",
    "\n",
    "f.close()\n",
    "\n",
    "print(\"일교차가 가장 큰날 : \",max_daily_cross_date)\n",
    "print(\"최저기온이 가장 낮은날 : \",min_temp_date)\n",
    "print(\"최고기온이 가장 높은날 : \",max_temp_date)"
   ]
  },
  {
   "cell_type": "code",
   "execution_count": 74,
   "id": "751b8960",
   "metadata": {},
   "outputs": [
    {
     "name": "stdout",
     "output_type": "stream",
     "text": [
      "이용객이 가장 많은 역 순위\n",
      "1. 강남 2호선 (3167883)\n",
      "2. 신림 2호선 (2799927)\n",
      "3. 구로디지털단지 2호선 (2598153)\n",
      "\n",
      "이용객이 가장 적은 역 순위\n",
      "1. 계양 경의선 (2)\n",
      "2. 신내 6호선 (3)\n",
      "3. 연신내 6호선 (9)\n"
     ]
    }
   ],
   "source": [
    "import csv\n",
    "import sys\n",
    "f = open('subwayuse.csv',encoding='cp949')\n",
    "data = csv.reader(f)\n",
    "\n",
    "next(data)\n",
    "\n",
    "max_arr=[-1]*3\n",
    "max_station=['']*3\n",
    "\n",
    "maximum = sys.maxsize\n",
    "min_station=['']*3\n",
    "\n",
    "min_arr=[maximum]*3\n",
    "\n",
    "for row in data:\n",
    "    row[4] = row[4].replace(',','')\n",
    "    row[4] = int(row[4])\n",
    "    row[5] = row[5].replace(',','')\n",
    "    row[5] = int(row[5])\n",
    "    for i in range(4,6):\n",
    "        sum_temp = (row[4]+row[5])\n",
    "        if max_arr[0] <= sum_temp:\n",
    "            max_arr[0] = sum_temp\n",
    "            max_station[0] = row[3]+\" \"+row[1]\n",
    "        elif max_arr[1]<= sum_temp < max_arr[0]:\n",
    "            max_arr[1] = sum_temp\n",
    "            max_station[1] = row[3]+\" \"+row[1]\n",
    "        elif max_arr[2] <= sum_temp < max_arr[1]:\n",
    "            max_arr[2] = sum_temp\n",
    "            max_station[2] = row[3]+\" \"+row[1]\n",
    "            \n",
    "        if min_arr[0] >= sum_temp:\n",
    "            min_arr[0] = sum_temp\n",
    "            min_station[0] = row[3]+\" \"+row[1]\n",
    "        elif min_arr[1] >= sum_temp > min_arr[0]:\n",
    "            min_arr[1] = sum_temp\n",
    "            min_station[1] = row[3]+\" \"+row[1]\n",
    "        elif min_arr[2] >= sum_temp > min_arr[1]:\n",
    "            min_arr[2] = sum_temp\n",
    "            min_station[2] = row[3]+\" \"+row[1]\n",
    "            \n",
    "\n",
    "print(\"이용객이 가장 많은 역 순위\")\n",
    "for i in range(0,len(max_arr)):\n",
    "    print(\"{0:d}. {1:s} ({2:d})\".format(i+1,max_station[i],max_arr[i]))\n",
    "    \n",
    "print(\"\\n이용객이 가장 적은 역 순위\")\n",
    "for i in range(0,len(max_arr)):\n",
    "    print(\"{0:d}. {1:s} ({2:d})\".format(i+1, min_station[i],min_arr[i]))\n",
    "        \n",
    "f.close()"
   ]
  },
  {
   "cell_type": "code",
   "execution_count": null,
   "id": "c8808842",
   "metadata": {},
   "outputs": [],
   "source": []
  },
  {
   "cell_type": "code",
   "execution_count": null,
   "id": "66711cb7",
   "metadata": {},
   "outputs": [],
   "source": []
  }
 ],
 "metadata": {
  "kernelspec": {
   "display_name": "Python 3",
   "language": "python",
   "name": "python3"
  },
  "language_info": {
   "codemirror_mode": {
    "name": "ipython",
    "version": 3
   },
   "file_extension": ".py",
   "mimetype": "text/x-python",
   "name": "python",
   "nbconvert_exporter": "python",
   "pygments_lexer": "ipython3",
   "version": "3.8.8"
  }
 },
 "nbformat": 4,
 "nbformat_minor": 5
}
